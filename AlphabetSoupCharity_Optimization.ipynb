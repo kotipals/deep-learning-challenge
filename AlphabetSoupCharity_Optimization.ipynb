{
 "cells": [
  {
   "cell_type": "markdown",
   "metadata": {},
   "source": [
    "## Preprocessing"
   ]
  },
  {
   "cell_type": "code",
   "execution_count": null,
   "metadata": {
    "tags": []
   },
   "outputs": [],
   "source": [
    "# Import our dependencies\n",
    "from sklearn.model_selection import train_test_split\n",
    "from sklearn.preprocessing import StandardScaler\n",
    "import pandas as pd\n",
    "import tensorflow as tf\n",
    "\n",
    "#  Import and read the charity_data.csv.\n",
    "import pandas as pd \n",
    "application_df = pd.read_csv(\"https://static.bc-edx.com/data/dl-1-2/m21/lms/starter/charity_data.csv\")\n",
    "application_df.head()"
   ]
  },
  {
   "cell_type": "code",
   "execution_count": null,
   "metadata": {
    "tags": []
   },
   "outputs": [],
   "source": [
    "# Drop the non-beneficial ID columns, 'EIN' and 'NAME'.\n",
    "clean_application_df = application_df.drop(columns = ['EIN', 'NAME', 'USE_CASE'])\n",
    "clean_application_df\n",
    "                    \n"
   ]
  },
  {
   "cell_type": "code",
   "execution_count": null,
   "metadata": {
    "tags": []
   },
   "outputs": [],
   "source": [
    "# Determine the number of unique values in each column.\n",
    "clean_application_df.nunique()"
   ]
  },
  {
   "cell_type": "code",
   "execution_count": null,
   "metadata": {
    "tags": []
   },
   "outputs": [],
   "source": [
    "# Look at APPLICATION_TYPE value counts for binning\n",
    "clean_list = clean_application_df['APPLICATION_TYPE'].value_counts()\n",
    "clean_list"
   ]
  },
  {
   "cell_type": "code",
   "execution_count": null,
   "metadata": {
    "tags": []
   },
   "outputs": [],
   "source": [
    "clean_list[clean_list < 200].index"
   ]
  },
  {
   "cell_type": "code",
   "execution_count": null,
   "metadata": {
    "tags": []
   },
   "outputs": [],
   "source": [
    "# Choose a cutoff value and create a list of application types to be replaced\n",
    "# use the variable name `application_types_to_replace`\n",
    "#  YOUR CODE GOES HERE\n",
    "application_types_to_replace = clean_list[clean_list < 150].index\n",
    "# Replace in dataframe\n",
    "for app in application_types_to_replace:\n",
    "    clean_application_df['APPLICATION_TYPE'] = clean_application_df['APPLICATION_TYPE'].replace(app,\"Other\")\n",
    "\n",
    "# Check to make sure binning was successful\n",
    "clean_application_df['APPLICATION_TYPE'].value_counts()"
   ]
  },
  {
   "cell_type": "code",
   "execution_count": null,
   "metadata": {
    "tags": []
   },
   "outputs": [],
   "source": [
    "### Look at CLASSIFICATION value counts for binning\n",
    "#  YOUR CODE GOES HERE\n",
    "clean_classification_list = clean_application_df['CLASSIFICATION'].value_counts()\n",
    "clean_classification_list"
   ]
  },
  {
   "cell_type": "code",
   "execution_count": null,
   "metadata": {
    "tags": []
   },
   "outputs": [],
   "source": [
    "# You may find it helpful to look at CLASSIFICATION value counts >1\n",
    "#  YOUR CODE GOES HERE\n",
    "clean_classification_list[clean_classification_list > 1]"
   ]
  },
  {
   "cell_type": "code",
   "execution_count": null,
   "metadata": {
    "tags": []
   },
   "outputs": [],
   "source": [
    "# Choose a cutoff value and create a list of classifications to be replaced\n",
    "# use the variable name `classifications_to_replace`\n",
    "#  YOUR CODE GOES HERE\n",
    "classifications_to_replace = clean_classification_list[clean_classification_list < 2000].index\n",
    "# Replace in dataframe\n",
    "for cls in classifications_to_replace:\n",
    "    clean_application_df['CLASSIFICATION'] = clean_application_df['CLASSIFICATION'].replace(cls,\"Other\")\n",
    "    \n",
    "# Check to make sure binning was successful\n",
    "clean_application_df['CLASSIFICATION'].value_counts()"
   ]
  },
  {
   "cell_type": "code",
   "execution_count": null,
   "metadata": {
    "tags": []
   },
   "outputs": [],
   "source": [
    "# Convert categorical data to numeric with `pd.get_dummies`\n",
    "#  YOUR CODE GOES HERE\n",
    "categorical_data = pd.get_dummies(clean_application_df)\n",
    "categorical_data"
   ]
  },
  {
   "cell_type": "code",
   "execution_count": null,
   "metadata": {
    "tags": []
   },
   "outputs": [],
   "source": [
    "# Split our preprocessed data into our features and target arrays\n",
    "#  YOUR CODE GOES HERE\n",
    "y = categorical_data['IS_SUCCESSFUL']\n",
    "X = categorical_data.drop(columns = ['IS_SUCCESSFUL'])\n",
    "\n",
    "# Split the preprocessed data into a training and testing dataset\n",
    "#  YOUR CODE GOES HERE\n",
    "X_train, X_test, y_train, y_test = train_test_split(X, y, random_state=1) "
   ]
  },
  {
   "cell_type": "code",
   "execution_count": null,
   "metadata": {
    "tags": []
   },
   "outputs": [],
   "source": [
    "# Create a StandardScaler instances\n",
    "scaler = StandardScaler()\n",
    "\n",
    "# Fit the StandardScaler\n",
    "X_scaler = scaler.fit(X_train)\n",
    "\n",
    "# Scale the data\n",
    "X_train_scaled = X_scaler.transform(X_train)\n",
    "X_test_scaled = X_scaler.transform(X_test)"
   ]
  },
  {
   "cell_type": "markdown",
   "metadata": {},
   "source": [
    "**Optimization Attempt # 1**\n",
    "\n",
    "- Dropping more or fewer columns. ( Dropped the USE_CASE COLUMN)\n",
    "- Creating more bins for rare occurrences in columns. (Changed the thresholds for the application_type and Classification columns)"
   ]
  },
  {
   "cell_type": "markdown",
   "metadata": {},
   "source": [
    "## Compile, Train and Evaluate the Model"
   ]
  },
  {
   "cell_type": "code",
   "execution_count": null,
   "metadata": {
    "tags": []
   },
   "outputs": [],
   "source": [
    "# Define the model - deep neural net, i.e., the number of input features and hidden nodes for each layer.\n",
    "#  YOUR CODE GOES HERE\n",
    "units_1 = 80\n",
    "units_2 = 30\n",
    "X_inputs = len(X_train.columns)\n",
    "\n",
    "nn1 = tf.keras.models.Sequential()\n",
    "\n",
    "# First hidden layer\n",
    "#  YOUR CODE GOES HERE\n",
    "nn1.add(\n",
    "tf.keras.layers.Dense(units = units_1, input_dim = X_inputs, activation = 'relu')\n",
    ")\n",
    "# Second hidden layer\n",
    "#  YOUR CODE GOES HERE\n",
    "nn1.add(\n",
    "tf.keras.layers.Dense(units = units_2, activation = 'relu')\n",
    ")\n",
    "# Output layer\n",
    "#  YOUR CODE GOES HERE\n",
    "nn1.add(\n",
    "tf.keras.layers.Dense(units = 1, activation = 'sigmoid')\n",
    ")\n",
    "# Check the structure of the model\n",
    "nn1.summary()\n",
    "\n",
    "\n",
    "# Compile the model\n",
    "nn1.compile(loss=\"binary_crossentropy\", optimizer=\"adam\", metrics=[\"accuracy\"])\n",
    "\n",
    "\n",
    "# Train the model\n",
    "fit_model = nn1.fit(X_train_scaled, y_train, epochs=100) \n",
    "\n",
    "#Evaluate the model using the test data\n",
    "model_loss, model_accuracy = nn1.evaluate(X_test_scaled,y_test,verbose=2)\n",
    "print(f\"Loss: {model_loss}, Accuracy: {model_accuracy}\")\n",
    "\n"
   ]
  },
  {
   "cell_type": "markdown",
   "metadata": {},
   "source": [
    "**Optimization Attempt # 2**\n",
    "\n",
    "- Add more neurons to a hidden layer. ( added more neurons to the first and second hidden layer)\n",
    "- Add more hidden layers. (added a third hidden layer) "
   ]
  },
  {
   "cell_type": "code",
   "execution_count": null,
   "metadata": {
    "tags": []
   },
   "outputs": [],
   "source": [
    "# Define the model - deep neural net, i.e., the number of input features and hidden nodes for each layer.\n",
    "#  YOUR CODE GOES HERE\n",
    "units_1 = 100\n",
    "units_2 = 60\n",
    "units_3 = 10\n",
    "X_inputs = len(X_train.columns)\n",
    "\n",
    "nn2 = tf.keras.models.Sequential()\n",
    "\n",
    "# First hidden layer\n",
    "#  YOUR CODE GOES HERE\n",
    "nn2.add(\n",
    "tf.keras.layers.Dense(units = units_1, input_dim = X_inputs, activation = 'relu')\n",
    ")\n",
    "# Second hidden layer\n",
    "#  YOUR CODE GOES HERE\n",
    "nn2.add(\n",
    "tf.keras.layers.Dense(units = units_2, activation = 'relu')\n",
    ")\n",
    "# Third hidden layer\n",
    "#  YOUR CODE GOES HERE\n",
    "nn2.add(\n",
    "tf.keras.layers.Dense(units = units_3, activation = 'relu')\n",
    ")\n",
    "# Output layer\n",
    "#  YOUR CODE GOES HERE\n",
    "nn2.add(\n",
    "tf.keras.layers.Dense(units = 1, activation = 'sigmoid')\n",
    ")\n",
    "# Check the structure of the model\n",
    "nn2.summary()\n",
    "\n",
    "\n",
    "# Compile the model\n",
    "nn2.compile(loss=\"binary_crossentropy\", optimizer=\"adam\", metrics=[\"accuracy\"])\n",
    "\n",
    "\n",
    "# Train the model\n",
    "fit_model = nn2.fit(X_train_scaled, y_train, epochs=100) \n",
    "\n",
    "#Evaluate the model using the test data\n",
    "model_loss, model_accuracy = nn2.evaluate(X_test_scaled,y_test,verbose=2)\n",
    "print(f\"Loss: {model_loss}, Accuracy: {model_accuracy}\")\n",
    "\n"
   ]
  },
  {
   "cell_type": "markdown",
   "metadata": {},
   "source": [
    "**Optimization Attempt # 3**\n",
    "\n",
    "- Use different activation functions for the hidden layers. (replaced relu with tanh for all the hidden layers, kept output layer same)\n",
    "- Add or reduce the number of epochs to the training regimen. (Increased the epochs from 100 to 150)"
   ]
  },
  {
   "cell_type": "code",
   "execution_count": null,
   "metadata": {
    "tags": []
   },
   "outputs": [],
   "source": [
    "# Define the model - deep neural net, i.e., the number of input features and hidden nodes for each layer.\n",
    "#  YOUR CODE GOES HERE\n",
    "units_1 = 100\n",
    "units_2 = 60\n",
    "units_3 = 10\n",
    "X_inputs = len(X_train.columns)\n",
    "\n",
    "nn3 = tf.keras.models.Sequential()\n",
    "\n",
    "# First hidden layer\n",
    "#  YOUR CODE GOES HERE\n",
    "nn3.add(\n",
    "tf.keras.layers.Dense(units = units_1, input_dim = X_inputs, activation = 'tanh')\n",
    ")\n",
    "# Second hidden layer\n",
    "#  YOUR CODE GOES HERE\n",
    "nn3.add(\n",
    "tf.keras.layers.Dense(units = units_2, activation = 'tanh')\n",
    ")\n",
    "# Third hidden layer\n",
    "#  YOUR CODE GOES HERE\n",
    "nn3.add(\n",
    "tf.keras.layers.Dense(units = units_3, activation = 'tanh')\n",
    ")\n",
    "# Output layer\n",
    "#  YOUR CODE GOES HERE\n",
    "nn3.add(\n",
    "tf.keras.layers.Dense(units = 1, activation = 'sigmoid')\n",
    ")\n",
    "# Check the structure of the model\n",
    "nn3.summary()\n",
    "\n",
    "\n",
    "# Compile the model\n",
    "nn3.compile(loss=\"binary_crossentropy\", optimizer=\"adam\", metrics=[\"accuracy\"])\n",
    "\n",
    "\n",
    "# Train the model\n",
    "fit_model = nn3.fit(X_train_scaled, y_train, epochs=150) \n",
    "\n",
    "#Evaluate the model using the test data\n",
    "model_loss, model_accuracy = nn3.evaluate(X_test_scaled,y_test,verbose=2)\n",
    "print(f\"Loss: {model_loss}, Accuracy: {model_accuracy}\")\n",
    "\n"
   ]
  },
  {
   "cell_type": "code",
   "execution_count": null,
   "metadata": {},
   "outputs": [],
   "source": [
    "# Export our model to HDF5 file\n",
    "nn3.save(\"AlphabetSoupCharity_Optimization.h5\")"
   ]
  },
  {
   "cell_type": "code",
   "execution_count": null,
   "metadata": {},
   "outputs": [],
   "source": []
  }
 ],
 "metadata": {
  "kernelspec": {
   "display_name": "Python 3 (ipykernel)",
   "language": "python",
   "name": "python3"
  },
  "language_info": {
   "codemirror_mode": {
    "name": "ipython",
    "version": 3
   },
   "file_extension": ".py",
   "mimetype": "text/x-python",
   "name": "python",
   "nbconvert_exporter": "python",
   "pygments_lexer": "ipython3",
   "version": "3.11.5"
  },
  "vscode": {
   "interpreter": {
    "hash": "31f2aee4e71d21fbe5cf8b01ff0e069b9275f58929596ceb00d14d90e3e16cd6"
   }
  }
 },
 "nbformat": 4,
 "nbformat_minor": 4
}
